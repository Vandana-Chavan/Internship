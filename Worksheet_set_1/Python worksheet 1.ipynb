{
 "cells": [
  {
   "cell_type": "markdown",
   "id": "414f1bb2-ea0b-404f-be11-ab4152a47295",
   "metadata": {},
   "source": [
    "                                                     PYTHON – WORKSHEET 1"
   ]
  },
  {
   "cell_type": "markdown",
   "id": "221c8c44-fcf0-4f88-b2cf-b52c286eba1a",
   "metadata": {},
   "source": [
    "Q1 to Q8 have only one correct answer. Choose the correct option to answer your question."
   ]
  },
  {
   "cell_type": "markdown",
   "id": "02b86d93-71f2-433a-887a-4edb1e398890",
   "metadata": {},
   "source": [
    "1. Which of the following operators is used to calculate remainder in a division?"
   ]
  },
  {
   "cell_type": "markdown",
   "id": "ba927e2f-b91d-42d3-afb6-9ba55b1ad4b9",
   "metadata": {},
   "source": [
    "Answer :- C)%"
   ]
  },
  {
   "cell_type": "markdown",
   "id": "3529b93d-e59c-4d18-bf82-37ec5a06ebd2",
   "metadata": {},
   "source": [
    "2. In python 2//3 is equal to?"
   ]
  },
  {
   "cell_type": "markdown",
   "id": "26908cc0-92aa-41db-8888-61c5dac79b9d",
   "metadata": {},
   "source": [
    "Answer :- B)0"
   ]
  },
  {
   "cell_type": "markdown",
   "id": "16d83666-4277-43ac-9880-0b8bc83a5bed",
   "metadata": {},
   "source": [
    "3. In python, 6<<2 is equal to?"
   ]
  },
  {
   "cell_type": "markdown",
   "id": "df340c5a-8f4e-4c96-8b4c-c23b53e93f66",
   "metadata": {},
   "source": [
    "Answer :- c)24"
   ]
  },
  {
   "cell_type": "markdown",
   "id": "6380bdb3-66c8-4d70-bade-0be1191f0c1e",
   "metadata": {},
   "source": [
    "4. In python, 6&2 will give which of the following as output?"
   ]
  },
  {
   "cell_type": "markdown",
   "id": "ad9397d6-5236-462c-a804-478eb85e73a0",
   "metadata": {},
   "source": [
    "Answer :- A)2"
   ]
  },
  {
   "cell_type": "markdown",
   "id": "8284a816-4808-429a-ae9e-5eee45829733",
   "metadata": {},
   "source": [
    "5. In python, 6|2 will give which of the following as output?"
   ]
  },
  {
   "cell_type": "markdown",
   "id": "5bebf79b-e049-48e1-b6e5-400dd0924986",
   "metadata": {},
   "source": [
    "Answer :- D)6"
   ]
  },
  {
   "cell_type": "markdown",
   "id": "1d604f8e-4400-49ce-93fd-30a321f8d42d",
   "metadata": {},
   "source": [
    "7. What does raise keyword is used for in python?"
   ]
  },
  {
   "cell_type": "markdown",
   "id": "3d70e169-940e-4ba1-8f8e-2df7903338d9",
   "metadata": {},
   "source": [
    "Answer :- A) It is used to raise an exception."
   ]
  },
  {
   "cell_type": "markdown",
   "id": "87319792-2bb0-4209-85a9-2f9b5c6e6645",
   "metadata": {},
   "source": [
    "8. Which of the following is a common use case of yield keyword in python?"
   ]
  },
  {
   "cell_type": "markdown",
   "id": "b88cbb04-3213-4811-a1d7-37b720742fed",
   "metadata": {},
   "source": [
    "Answer :- C) in defining a generator"
   ]
  },
  {
   "cell_type": "markdown",
   "id": "87d94629-ebd3-4bd9-a0fd-45aa634e47cd",
   "metadata": {},
   "source": [
    "Q9 and Q10 have multiple correct answers. Choose all the correct options to answer your question."
   ]
  },
  {
   "cell_type": "markdown",
   "id": "3fe70a23-7194-4595-858e-bbc1e83a4ee1",
   "metadata": {},
   "source": [
    "9. Which of the following are the valid variable names?"
   ]
  },
  {
   "cell_type": "markdown",
   "id": "d165c790-8e44-4474-9e50-4c28eaf45c04",
   "metadata": {},
   "source": [
    "Answer :- A) _abc And C) abc2"
   ]
  },
  {
   "cell_type": "markdown",
   "id": "3e480c66-d8b6-44bf-914d-e9c6532ed8ab",
   "metadata": {},
   "source": [
    "10. Which of the following are the keywords in python?"
   ]
  },
  {
   "cell_type": "markdown",
   "id": "02a9a9ff-5863-4b53-bb08-22dab12b1f00",
   "metadata": {},
   "source": [
    "Answer :- A) yield And B) raise"
   ]
  },
  {
   "cell_type": "markdown",
   "id": "209c1e31-260a-400d-a28e-c461c04e58da",
   "metadata": {},
   "source": [
    "Q11 to Q15 are programming questions. Answer them in Jupyter Notebook."
   ]
  },
  {
   "cell_type": "markdown",
   "id": "41a88446-0e8e-41ff-9651-c8d7168ccd65",
   "metadata": {},
   "source": [
    "11. Write a python program to find the factorial of a number."
   ]
  },
  {
   "cell_type": "code",
   "execution_count": 56,
   "id": "06b386b1-684e-42fd-8277-7dfa63967d0a",
   "metadata": {},
   "outputs": [
    {
     "name": "stdin",
     "output_type": "stream",
     "text": [
      "Enter a number:  5\n"
     ]
    },
    {
     "name": "stdout",
     "output_type": "stream",
     "text": [
      "The factorial of 5 is 120\n"
     ]
    }
   ],
   "source": [
    "def factorial(n):\n",
    "    if n == 0:\n",
    "        return 1\n",
    "    else:\n",
    "        return n * factorial(n-1)\n",
    "\n",
    "num = int(input(\"Enter a number: \"))\n",
    "print(\"The factorial of\", num, \"is\", factorial(num))"
   ]
  },
  {
   "cell_type": "markdown",
   "id": "ffcd1ef0-ebcb-48ab-8b84-7696dec74951",
   "metadata": {},
   "source": [
    "12. Write a python program to find whether a number is prime or composite."
   ]
  },
  {
   "cell_type": "code",
   "execution_count": 75,
   "id": "570f3695-468d-4ca9-9f5d-45fc2bb2421d",
   "metadata": {},
   "outputs": [
    {
     "name": "stdin",
     "output_type": "stream",
     "text": [
      "Enter a number:  12\n"
     ]
    },
    {
     "name": "stdout",
     "output_type": "stream",
     "text": [
      "12 is a composite number\n"
     ]
    }
   ],
   "source": [
    "def prime(num):\n",
    "    if num < 2:\n",
    "        return False\n",
    "    for i in range(2, num):\n",
    "        if num % i == 0:\n",
    "            return False\n",
    "    return True\n",
    "\n",
    "num = int(input(\"Enter a number: \"))\n",
    "\n",
    "if prime(num):\n",
    "    print(num, \"is a prime number\")\n",
    "else:\n",
    "    print(num, \"is a composite number\")"
   ]
  },
  {
   "cell_type": "markdown",
   "id": "ffac330d-04f4-4fb2-99c6-1ed490142450",
   "metadata": {},
   "source": [
    "13. Write a python program to check whether a given string is palindrome or not."
   ]
  },
  {
   "cell_type": "code",
   "execution_count": 82,
   "id": "60e7c663-73ea-40a6-8958-8d06aeac2f4d",
   "metadata": {},
   "outputs": [
    {
     "name": "stdin",
     "output_type": "stream",
     "text": [
      "Enter a string:  nitin\n"
     ]
    },
    {
     "name": "stdout",
     "output_type": "stream",
     "text": [
      "nitin is a palindrome\n"
     ]
    }
   ],
   "source": [
    "def is_palindrome(s):\n",
    "    s = s.lower()  \n",
    "    s = s.replace(\" \", \"\")\n",
    "    return s == s[::-1] \n",
    "\n",
    "input_string = input(\"Enter a string: \")\n",
    "if is_palindrome(input_string):\n",
    "    print(f\"{input_string} is a palindrome\")\n",
    "else:\n",
    "    print(f\"{input_string} is not a palindrome\")"
   ]
  },
  {
   "cell_type": "markdown",
   "id": "1c7f0f39-3c08-44d2-b155-bc1e3168d794",
   "metadata": {},
   "source": [
    "14. Write a Python program to get the third side of right-angled triangle from two given sides."
   ]
  },
  {
   "cell_type": "code",
   "execution_count": 86,
   "id": "74dc4f43-5068-441a-a332-5cea3a2f18e1",
   "metadata": {},
   "outputs": [
    {
     "name": "stdin",
     "output_type": "stream",
     "text": [
      "Enter the length of the first side:  12\n",
      "Enter the length of the second side:  24\n"
     ]
    },
    {
     "name": "stdout",
     "output_type": "stream",
     "text": [
      "The length of the hypotenuse is: 26.832815729997478\n"
     ]
    }
   ],
   "source": [
    "def calculate_hypotenuse(side1, side2):\n",
    "    hypotenuse = (side1**2 + side2**2)**0.5 \n",
    "    return hypotenuse\n",
    "\n",
    "side1 = float(input(\"Enter the length of the first side: \"))\n",
    "side2 = float(input(\"Enter the length of the second side: \"))\n",
    "\n",
    "hypotenuse = calculate_hypotenuse(side1, side2)\n",
    "print(f\"The length of the hypotenuse is: {hypotenuse}\")"
   ]
  },
  {
   "cell_type": "markdown",
   "id": "ed71fb71-a0a3-46a2-b573-5f6998f61f55",
   "metadata": {},
   "source": [
    "15. Write a python program to print the frequency of each of the characters present in a given string."
   ]
  },
  {
   "cell_type": "code",
   "execution_count": 91,
   "id": "d64f2f64-07b9-42a9-8267-9210f4d32d08",
   "metadata": {},
   "outputs": [
    {
     "name": "stdin",
     "output_type": "stream",
     "text": [
      "Enter a string:  123456789\n"
     ]
    },
    {
     "name": "stdout",
     "output_type": "stream",
     "text": [
      "Character frequency in the given string:\n",
      "'1' : 1\n",
      "'2' : 1\n",
      "'3' : 1\n",
      "'4' : 1\n",
      "'5' : 1\n",
      "'6' : 1\n",
      "'7' : 1\n",
      "'8' : 1\n",
      "'9' : 1\n"
     ]
    }
   ],
   "source": [
    "def count_frequency(input_string):\n",
    "    frequency = {} \n",
    "    for char in input_string:\n",
    "        if char in frequency:\n",
    "            frequency[char] += 1  \n",
    "        else:\n",
    "            frequency[char] = 1 \n",
    "\n",
    "    return frequency\n",
    "\n",
    "input_string = input(\"Enter a string: \")\n",
    "result = count_frequency(input_string)\n",
    "print(\"Character frequency in the given string:\")\n",
    "for char, freq in result.items():\n",
    "    print(f\"'{char}' : {freq}\")"
   ]
  }
 ],
 "metadata": {
  "kernelspec": {
   "display_name": "Python 3 (ipykernel)",
   "language": "python",
   "name": "python3"
  },
  "language_info": {
   "codemirror_mode": {
    "name": "ipython",
    "version": 3
   },
   "file_extension": ".py",
   "mimetype": "text/x-python",
   "name": "python",
   "nbconvert_exporter": "python",
   "pygments_lexer": "ipython3",
   "version": "3.11.7"
  }
 },
 "nbformat": 4,
 "nbformat_minor": 5
}
